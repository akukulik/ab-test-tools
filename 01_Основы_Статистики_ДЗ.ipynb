{
 "cells": [
  {
   "cell_type": "code",
   "execution_count": 1,
   "metadata": {},
   "outputs": [],
   "source": [
    "import os\n",
    "import pandas as pd\n",
    "import numpy as np\n",
    "from scipy import stats\n",
    "import matplotlib.pyplot as plt"
   ]
  },
  {
   "cell_type": "code",
   "execution_count": 2,
   "metadata": {},
   "outputs": [],
   "source": [
    "titlesize = 16\n",
    "labelsize = 16\n",
    "legendsize = 16\n",
    "xticksize = 16\n",
    "yticksize = xticksize\n",
    "\n",
    "plt.rcParams['legend.markerscale'] = 1.5  # the relative size of legend markers vs. original\n",
    "plt.rcParams['legend.handletextpad'] = 0.5\n",
    "plt.rcParams['legend.labelspacing'] = 0.4  # the vertical scape between the legend entries in \n",
    "plt.rcParams['legend.borderpad'] = 0.5  # border whitescape in fontsize units\n",
    "plt.rcParams['font.size'] = 12\n",
    "plt.rcParams['font.serif'] = 'Times New Roman'\n",
    "plt.rcParams['axes.labelsize'] = labelsize\n",
    "plt.rcParams['axes.titlesize'] = titlesize\n",
    "plt.rcParams['figure.figsize'] = (10, 6)\n",
    "\n",
    "plt.rc('xtick', labelsize=xticksize)\n",
    "plt.rc('ytick', labelsize=yticksize)\n",
    "plt.rc('legend', fontsize=legendsize)"
   ]
  },
  {
   "cell_type": "code",
   "execution_count": 3,
   "metadata": {},
   "outputs": [],
   "source": [
    "URL_BASE = 'https://raw.githubusercontent.com/ab-courses/simulator-ab-datasets/main/2022-04-01/'\n",
    "\n",
    "def read_database(file_name):\n",
    "    return pd.read_csv(os.path.join(URL_BASE, file_name))"
   ]
  },
  {
   "cell_type": "markdown",
   "metadata": {},
   "source": [
    "# 1. Популярные товары\n",
    "Определить топ-3 товара по суммарной выручке"
   ]
  },
  {
   "cell_type": "code",
   "execution_count": 91,
   "metadata": {},
   "outputs": [],
   "source": [
    "df_sales = read_database('2022-04-01T12_df_sales.csv')\n",
    "df_sales_details = read_database('2022-04-01T12_df_sales_detail.csv')\n",
    "\n",
    "df_sales['date'] = pd.to_datetime(df_sales['date'])\n",
    "df_sales_details['date'] = pd.to_datetime(df_sales_details['date'])"
   ]
  },
  {
   "cell_type": "code",
   "execution_count": 94,
   "metadata": {},
   "outputs": [
    {
     "data": {
      "text/plain": [
       "['chicken bbq pizza', 'double pepperoni pizza', 'chefs pizza']"
      ]
     },
     "execution_count": 94,
     "metadata": {},
     "output_type": "execute_result"
    }
   ],
   "source": [
    "df_sales_details.groupby('good')['price'].sum().sort_values()[-3:].index.tolist()"
   ]
  },
  {
   "cell_type": "markdown",
   "metadata": {},
   "source": [
    "# 2. Время от захода на сайт до покупки\n",
    "Средний срок от захода юзера на сайт до совершения покупки.\n",
    "Заход на сайт относится к покупке, если он был совершен не ранее, чем за два часа до совершения покупки.\n",
    "\n",
    "Полученный результат перевести в минуты и округлить до целого значения."
   ]
  },
  {
   "cell_type": "code",
   "execution_count": 43,
   "metadata": {},
   "outputs": [],
   "source": [
    "df_sales = read_database('2022-04-01T12_df_sales.csv')\n",
    "df_web_logs = read_database('2022-04-01T12_df_web_logs.csv')\n",
    "\n",
    "df_sales['date'] = pd.to_datetime(df_sales['date'])\n",
    "df_web_logs['date'] = pd.to_datetime(df_web_logs['date'])"
   ]
  },
  {
   "cell_type": "code",
   "execution_count": 98,
   "metadata": {},
   "outputs": [
    {
     "data": {
      "text/html": [
       "<div>\n",
       "<style scoped>\n",
       "    .dataframe tbody tr th:only-of-type {\n",
       "        vertical-align: middle;\n",
       "    }\n",
       "\n",
       "    .dataframe tbody tr th {\n",
       "        vertical-align: top;\n",
       "    }\n",
       "\n",
       "    .dataframe thead th {\n",
       "        text-align: right;\n",
       "    }\n",
       "</style>\n",
       "<table border=\"1\" class=\"dataframe\">\n",
       "  <thead>\n",
       "    <tr style=\"text-align: right;\">\n",
       "      <th></th>\n",
       "      <th>user_id</th>\n",
       "      <th>page</th>\n",
       "      <th>web_date</th>\n",
       "      <th>load_time</th>\n",
       "    </tr>\n",
       "  </thead>\n",
       "  <tbody>\n",
       "    <tr>\n",
       "      <th>0</th>\n",
       "      <td>f25239</td>\n",
       "      <td>m</td>\n",
       "      <td>2022-02-03 23:45:37</td>\n",
       "      <td>80.8</td>\n",
       "    </tr>\n",
       "    <tr>\n",
       "      <th>1</th>\n",
       "      <td>06d6df</td>\n",
       "      <td>m</td>\n",
       "      <td>2022-02-03 23:49:56</td>\n",
       "      <td>70.5</td>\n",
       "    </tr>\n",
       "    <tr>\n",
       "      <th>2</th>\n",
       "      <td>06d6df</td>\n",
       "      <td>m</td>\n",
       "      <td>2022-02-03 23:51:16</td>\n",
       "      <td>89.7</td>\n",
       "    </tr>\n",
       "    <tr>\n",
       "      <th>3</th>\n",
       "      <td>f25239</td>\n",
       "      <td>m</td>\n",
       "      <td>2022-02-03 23:51:43</td>\n",
       "      <td>74.4</td>\n",
       "    </tr>\n",
       "    <tr>\n",
       "      <th>4</th>\n",
       "      <td>697870</td>\n",
       "      <td>m</td>\n",
       "      <td>2022-02-03 23:53:12</td>\n",
       "      <td>66.8</td>\n",
       "    </tr>\n",
       "  </tbody>\n",
       "</table>\n",
       "</div>"
      ],
      "text/plain": [
       "  user_id page            web_date  load_time\n",
       "0  f25239    m 2022-02-03 23:45:37       80.8\n",
       "1  06d6df    m 2022-02-03 23:49:56       70.5\n",
       "2  06d6df    m 2022-02-03 23:51:16       89.7\n",
       "3  f25239    m 2022-02-03 23:51:43       74.4\n",
       "4  697870    m 2022-02-03 23:53:12       66.8"
      ]
     },
     "execution_count": 98,
     "metadata": {},
     "output_type": "execute_result"
    }
   ],
   "source": [
    "df_web_logs.head()"
   ]
  },
  {
   "cell_type": "code",
   "execution_count": 45,
   "metadata": {},
   "outputs": [],
   "source": [
    "df_sales['date_start'] = df_sales['date'] - pd.Timedelta(hours=2)"
   ]
  },
  {
   "cell_type": "code",
   "execution_count": 47,
   "metadata": {},
   "outputs": [],
   "source": [
    "df_sales = df_sales.rename(columns={'date': 'sale_date'})\n",
    "df_web_logs = df_web_logs.rename(columns={'date': 'web_date'})"
   ]
  },
  {
   "cell_type": "code",
   "execution_count": 48,
   "metadata": {},
   "outputs": [],
   "source": [
    "df_sales = df_sales.merge(df_web_logs, how='outer', on ='user_id')"
   ]
  },
  {
   "cell_type": "code",
   "execution_count": 49,
   "metadata": {},
   "outputs": [],
   "source": [
    "df_sales = df_sales[~df_sales['sale_id'].isna()]"
   ]
  },
  {
   "cell_type": "code",
   "execution_count": 50,
   "metadata": {},
   "outputs": [],
   "source": [
    "df_sales = df_sales[df_sales['web_date'] >= df_sales['date_start']]"
   ]
  },
  {
   "cell_type": "code",
   "execution_count": 51,
   "metadata": {},
   "outputs": [],
   "source": [
    "df_sales = df_sales[df_sales['web_date'] <= df_sales['sale_date']]"
   ]
  },
  {
   "cell_type": "code",
   "execution_count": 53,
   "metadata": {},
   "outputs": [],
   "source": [
    "df_sales['date_diff'] = df_sales['sale_date'] - df_sales['web_date']"
   ]
  },
  {
   "cell_type": "code",
   "execution_count": 55,
   "metadata": {},
   "outputs": [],
   "source": [
    "df_sales['seconds_diff'] = df_sales['date_diff'].dt.total_seconds()"
   ]
  },
  {
   "cell_type": "code",
   "execution_count": 56,
   "metadata": {},
   "outputs": [],
   "source": [
    "df_sales_agg = df_sales.groupby(by='sale_id', as_index=False).agg({'user_id' :'max', \n",
    "                                                                   'seconds_diff' : 'max', \n",
    "                                                                   'sale_date' : 'max', \n",
    "                                                                   'web_date' : 'min'\n",
    "                                                                  })"
   ]
  },
  {
   "cell_type": "code",
   "execution_count": 61,
   "metadata": {},
   "outputs": [
    {
     "data": {
      "text/plain": [
       "16.58854451295988"
      ]
     },
     "execution_count": 61,
     "metadata": {},
     "output_type": "execute_result"
    }
   ],
   "source": [
    "df_sales_agg['seconds_diff'].mean()/60"
   ]
  },
  {
   "cell_type": "markdown",
   "metadata": {},
   "source": [
    "# Какая доля пользователей, совершивших покупку в феврале, совершила покупку и в марте?\n",
    "\n",
    "Ответ округлите с точностью до 2-го знака после точки."
   ]
  },
  {
   "cell_type": "code",
   "execution_count": 67,
   "metadata": {},
   "outputs": [],
   "source": [
    "df_sales = read_database('2022-04-01T12_df_sales.csv')\n",
    "\n",
    "df_sales['date'] = pd.to_datetime(df_sales['date'])\n",
    "# df_sales['day'] = df_sales['date'].dt.date\n",
    "df_sales['month'] = df_sales['date'].dt.month\n",
    "df_sales['year'] = df_sales['date'].dt.year"
   ]
  },
  {
   "cell_type": "code",
   "execution_count": 97,
   "metadata": {},
   "outputs": [
    {
     "data": {
      "text/html": [
       "<div>\n",
       "<style scoped>\n",
       "    .dataframe tbody tr th:only-of-type {\n",
       "        vertical-align: middle;\n",
       "    }\n",
       "\n",
       "    .dataframe tbody tr th {\n",
       "        vertical-align: top;\n",
       "    }\n",
       "\n",
       "    .dataframe thead th {\n",
       "        text-align: right;\n",
       "    }\n",
       "</style>\n",
       "<table border=\"1\" class=\"dataframe\">\n",
       "  <thead>\n",
       "    <tr style=\"text-align: right;\">\n",
       "      <th></th>\n",
       "      <th>sale_id</th>\n",
       "      <th>date</th>\n",
       "      <th>count_pizza</th>\n",
       "      <th>count_drink</th>\n",
       "      <th>price</th>\n",
       "      <th>user_id</th>\n",
       "    </tr>\n",
       "  </thead>\n",
       "  <tbody>\n",
       "    <tr>\n",
       "      <th>0</th>\n",
       "      <td>1000001</td>\n",
       "      <td>2022-02-04 10:00:24</td>\n",
       "      <td>1</td>\n",
       "      <td>0</td>\n",
       "      <td>720</td>\n",
       "      <td>1c1543</td>\n",
       "    </tr>\n",
       "    <tr>\n",
       "      <th>1</th>\n",
       "      <td>1000002</td>\n",
       "      <td>2022-02-04 10:02:28</td>\n",
       "      <td>1</td>\n",
       "      <td>1</td>\n",
       "      <td>930</td>\n",
       "      <td>a9a6e8</td>\n",
       "    </tr>\n",
       "    <tr>\n",
       "      <th>2</th>\n",
       "      <td>1000003</td>\n",
       "      <td>2022-02-04 10:02:35</td>\n",
       "      <td>3</td>\n",
       "      <td>1</td>\n",
       "      <td>1980</td>\n",
       "      <td>23420a</td>\n",
       "    </tr>\n",
       "    <tr>\n",
       "      <th>3</th>\n",
       "      <td>1000004</td>\n",
       "      <td>2022-02-04 10:03:06</td>\n",
       "      <td>1</td>\n",
       "      <td>1</td>\n",
       "      <td>750</td>\n",
       "      <td>3e8ed5</td>\n",
       "    </tr>\n",
       "    <tr>\n",
       "      <th>4</th>\n",
       "      <td>1000005</td>\n",
       "      <td>2022-02-04 10:03:23</td>\n",
       "      <td>1</td>\n",
       "      <td>1</td>\n",
       "      <td>870</td>\n",
       "      <td>cbc468</td>\n",
       "    </tr>\n",
       "  </tbody>\n",
       "</table>\n",
       "</div>"
      ],
      "text/plain": [
       "   sale_id                date  count_pizza  count_drink  price user_id\n",
       "0  1000001 2022-02-04 10:00:24            1            0    720  1c1543\n",
       "1  1000002 2022-02-04 10:02:28            1            1    930  a9a6e8\n",
       "2  1000003 2022-02-04 10:02:35            3            1   1980  23420a\n",
       "3  1000004 2022-02-04 10:03:06            1            1    750  3e8ed5\n",
       "4  1000005 2022-02-04 10:03:23            1            1    870  cbc468"
      ]
     },
     "execution_count": 97,
     "metadata": {},
     "output_type": "execute_result"
    }
   ],
   "source": [
    "df_sales.head()"
   ]
  },
  {
   "cell_type": "code",
   "execution_count": 71,
   "metadata": {},
   "outputs": [],
   "source": [
    "df_sales_feb = df_sales[df_sales['month'] == 2][['user_id', 'sale_id']].groupby(by='user_id', \n",
    "                                                                                as_index=False).agg({'sale_id': 'nunique'})"
   ]
  },
  {
   "cell_type": "code",
   "execution_count": 74,
   "metadata": {},
   "outputs": [],
   "source": [
    "df_sales_mar = df_sales[df_sales['month'] == 3][['user_id', 'sale_id']].groupby(by='user_id', \n",
    "                                                                                as_index=False).agg({'sale_id': 'nunique'})"
   ]
  },
  {
   "cell_type": "code",
   "execution_count": 76,
   "metadata": {},
   "outputs": [
    {
     "data": {
      "text/plain": [
       "0.658493870402802"
      ]
     },
     "execution_count": 76,
     "metadata": {},
     "output_type": "execute_result"
    }
   ],
   "source": [
    "len(df_sales_mar.merge(df_sales_feb, how='inner', on='user_id'))/len(df_sales_feb)"
   ]
  },
  {
   "cell_type": "markdown",
   "metadata": {},
   "source": [
    "# Реализация методов для оценки АБ экспериментов\n",
    "\n",
    "В практических заданиях на программирование нашей целью будет написать код, с помощью которого можно будет оценивать A/B эксперименты. В результате у вас будет готова основа для создания платформы A/B тестирования, похожей на нашу или даже лучше.\n",
    "\n",
    "Мы разделили функции A/B платформы на 4 блока:\n",
    "- DataService — предоставляет доступ к сырым данным;\n",
    "- MetricsService — вычисляет метрики;\n",
    "- ExperimentsService — оценивает эксперименты;\n",
    "- SplittingService — подбирает группы пользователей для эксперимента."
   ]
  },
  {
   "cell_type": "markdown",
   "metadata": {},
   "source": [
    "# Реализация метода для доступа к сырым данным\n",
    "Напишите метод get_data_subset класса DataService. Описание метода есть в шаблоне решения ниже.\n",
    "\n",
    "Скопируйте код шаблона в py-файл, допишите недостающие части, сохраните изменения и отправьте файл в проверяющую систему.\n",
    "\n",
    "Для самопроверки используйте пример теста решения в нижней части шаблона. При проверке решения будут использоваться другие тестовые данные"
   ]
  },
  {
   "cell_type": "code",
   "execution_count": 95,
   "metadata": {},
   "outputs": [],
   "source": [
    "import pandas as pd\n",
    "\n",
    "from datetime import datetime\n",
    "\n",
    "\n",
    "class DataService:\n",
    "\n",
    "    def __init__(self, table_name_2_table):\n",
    "        \"\"\"Класс, предоставляющий доступ к сырым данным.\n",
    "        \n",
    "        :param table_name_2_table (dict[str, pd.DataFrame]): словарь таблиц с данными.\n",
    "            Пример, {\n",
    "                'sales': pd.DataFrame({'sale_id': ['123', ...], ...}),\n",
    "                ...\n",
    "            }. \n",
    "        \"\"\"\n",
    "        self.table_name_2_table = table_name_2_table\n",
    "\n",
    "    def get_data_subset(self, table_name, begin_date, end_date, user_ids=None, columns=None):\n",
    "        \"\"\"Возвращает подмножество данных.\n",
    "\n",
    "        :param table_name (str): название таблицы с данными.\n",
    "        :param begin_date (datetime.datetime): дата начала интервала с данными.\n",
    "            Пример, df[df['date'] >= begin_date].\n",
    "            Если None, то фильтровать не нужно.\n",
    "        :param end_date (None, datetime.datetime): дата окончания интервала с данными.\n",
    "            Пример, df[df['date'] < end_date].\n",
    "            Если None, то фильтровать не нужно.\n",
    "        :param user_ids (None, list[str]): список user_id, по которым нужно предоставить данные.\n",
    "            Пример, df[df['user_id'].isin(user_ids)].\n",
    "            Если None, то фильтровать по user_id не нужно.\n",
    "        :param columns (None, list[str]): список названий столбцов, по которым нужно предоставить данные.\n",
    "            Пример, df[columns].\n",
    "            Если None, то фильтровать по columns не нужно.\n",
    "\n",
    "        :return df (pd.DataFrame): датафрейм с подмножеством данных.\n",
    "        \"\"\"\n",
    "        # YOUR_CODE_HERE\n",
    "        df = self.table_name_2_table[table_name]\n",
    "        if begin_date is not None:\n",
    "            df = df[df['date'] >= begin_date]\n",
    "        if end_date is not None:\n",
    "            df = df[df['date'] < end_date]\n",
    "        if user_ids is not None:\n",
    "            df = df[df['user_id'].isin(user_ids)]\n",
    "        if columns is not None:\n",
    "            df = df[columns]\n",
    "        return df.copy()\n",
    "\n",
    "\n",
    "def _chech_df(df, df_ideal, sort_by):\n",
    "    assert isinstance(df, pd.DataFrame), 'Функция вернула не pd.DataFrame.'\n",
    "    assert len(df) == len(df_ideal), 'Неверное количество строк.'\n",
    "    assert len(df.T) == len(df_ideal.T), 'Неверное количество столбцов.'\n",
    "    columns = df_ideal.columns\n",
    "    assert df.columns.isin(columns).sum() == len(df.columns), 'Неверное название столбцов.'\n",
    "    df = df[columns].sort_values(sort_by)\n",
    "    df_ideal = df_ideal.sort_values(sort_by)\n",
    "    assert df_ideal.equals(df), 'Итоговый датафрейм не совпадает с верным результатом.'"
   ]
  },
  {
   "cell_type": "code",
   "execution_count": 96,
   "metadata": {},
   "outputs": [
    {
     "name": "stdout",
     "output_type": "stream",
     "text": [
      "simple test passed\n"
     ]
    }
   ],
   "source": [
    "if __name__ == '__main__':\n",
    "    table = pd.DataFrame({\n",
    "        'date': [datetime(2022, 1, 5, 12,), datetime(2022, 1, 7, 12)],\n",
    "        'user_id': ['1', '2'],\n",
    "    })\n",
    "    ideal_df = pd.DataFrame({\n",
    "        'date': [datetime(2022, 1, 5, 12,)],\n",
    "        'user_id': ['1'],\n",
    "    })\n",
    "\n",
    "    data_service = DataService({'table': table})\n",
    "    res_df = data_service.get_data_subset('table', datetime(2022, 1, 1), datetime(2022, 1, 6))\n",
    "    _chech_df(res_df, ideal_df, 'date')\n",
    "    print('simple test passed')"
   ]
  },
  {
   "cell_type": "markdown",
   "metadata": {},
   "source": [
    "# Реализация методов для вычисления метрик\n",
    "Напишите методы для вычисления метрик «revenue (web)», «revenue (all)», «response time». Описание методов есть в шаблоне решения ниже.\n",
    "\n",
    "Скопируйте код шаблона в py-файл, допишите недостающие части, сохраните изменения и отправьте файл в проверяющую систему.\n",
    "\n",
    "Для самопроверки внизу шаблона есть пример теста решения. При проверке решения будут использоваться другие тестовые данные."
   ]
  },
  {
   "cell_type": "code",
   "execution_count": 125,
   "metadata": {},
   "outputs": [],
   "source": [
    "import pandas as pd\n",
    "\n",
    "from datetime import datetime\n",
    "\n",
    "\n",
    "class DataService:\n",
    "\n",
    "    def __init__(self, table_name_2_table):\n",
    "        self.table_name_2_table = table_name_2_table\n",
    "\n",
    "    def get_data_subset(self, table_name, begin_date, end_date, user_ids=None, columns=None):\n",
    "        df = self.table_name_2_table[table_name]\n",
    "        if begin_date:\n",
    "            df = df[df['date'] >= begin_date]\n",
    "        if end_date:\n",
    "            df = df[df['date'] < end_date]\n",
    "        if user_ids:\n",
    "            df = df[df['user_id'].isin(user_ids)]\n",
    "        if columns:\n",
    "            df = df[columns]\n",
    "        return df.copy()\n",
    "\n",
    "\n",
    "class MetricsService:\n",
    "\n",
    "    def __init__(self, data_service):\n",
    "        \"\"\"Класс для вычисления метрик.\n",
    "\n",
    "        :param data_service (DataService): объект класса, предоставляющий доступ к данным.\n",
    "        \"\"\"\n",
    "        self.data_service = data_service\n",
    "\n",
    "    def _get_data_subset(self, table_name, begin_date, end_date, user_ids=None, columns=None):\n",
    "        \"\"\"Возвращает часть таблицы с данными.\"\"\"\n",
    "        return self.data_service.get_data_subset(table_name, begin_date, end_date, user_ids, columns)\n",
    "\n",
    "    def _calculate_response_time(self, begin_date, end_date, user_ids):\n",
    "        \"\"\"Вычисляет значения времени обработки запроса сервером.\n",
    "        \n",
    "        Нужно вернуть значения user_id и load_time из таблицы 'web-logs', отфильтрованные по date и user_id.\n",
    "        Считаем, что каждый запрос независим, поэтому группировать по user_id не нужно.\n",
    "\n",
    "        :param begin_date, end_date (datetime): период времени, за который нужно считать значения.\n",
    "        :param user_id (None, list[str]): id пользователей, по которым нужно отфильтровать полученные значения.\n",
    "        \n",
    "        :return (pd.DataFrame): датафрейм с двумя столбцами ['user_id', 'metric']\n",
    "        \"\"\"\n",
    "        # YOUR_CODE_HERE\n",
    "        return (\n",
    "            self._get_data_subset('web-logs', begin_date, end_date, user_ids, ['user_id', 'load_time'])\n",
    "            .rename(columns={'load_time' : 'metric'})\n",
    "            [['user_id', 'metric']]\n",
    "        )\n",
    "        \n",
    "    def _calculate_revenue_web(self, begin_date, end_date, user_ids):\n",
    "        \"\"\"Вычисляет значения выручки с пользователя за указанный период\n",
    "        для заходивших на сайт в указанный период.\n",
    "\n",
    "        Эти данные нужны для экспериментов на сайте, когда в эксперимент попадают только те, кто заходил на сайт.\n",
    "        \n",
    "        Нужно вернуть значения user_id и выручки (sum(price)).\n",
    "        Данные о ценах в таблице 'sales'. Данные о заходивших на сайт в таблице 'web-logs'.\n",
    "        Если пользователь зашёл на сайт и ничего не купил, его суммарная стоимость покупок равна нулю.\n",
    "        Для каждого user_id должно быть ровно одно значение.\n",
    "\n",
    "        :param begin_date, end_date (datetime): период времени, за который нужно считать значения.\n",
    "            Также за этот период времени нужно выбирать пользователей, которые заходили на сайт.\n",
    "        :param user_id (None, list[str]): id пользователей, по которым нужно отфильтровать полученные значения.\n",
    "        \n",
    "        :return (pd.DataFrame): датафрейм с двумя столбцами ['user_id', 'metric']\n",
    "        \"\"\"\n",
    "        # YOUR_CODE_HERE\n",
    "        user_ids_ = (\n",
    "            self._get_data_subset('web-logs', begin_date, end_date, user_ids, ['user_id'])['user_id'].unique()\n",
    "        )\n",
    "        \n",
    "        df = (\n",
    "            self._get_data_subset('sales', begin_date, end_date, user_ids, ['user_id', 'price'])\n",
    "            .groupby(by='user_id')[['price']].sum().reset_index()\n",
    "            .rename(columns={'price' : 'metric'})\n",
    "        )\n",
    "        df = pd.merge(pd.DataFrame({'user_id' : user_ids_}), df, how='left', on='user_id').fillna(0)\n",
    "        \n",
    "        return df[['user_id', 'metric']]\n",
    "\n",
    "    def _calculate_revenue_all(self, begin_date, end_date, user_ids):\n",
    "        \"\"\"Вычисляет значения выручки с пользователя за указанный период\n",
    "        для заходивших на сайт до end_date.\n",
    "\n",
    "        Эти данные нужны, например, для экспериментов с рассылкой по email,\n",
    "        когда в эксперимент попадают те, кто когда-либо оставил нам свои данные.\n",
    "        \n",
    "        Нужно вернуть значения user_id и выручки (sum(price)).\n",
    "        Данные о ценах в таблице 'sales'. Данные о заходивших на сайт в таблице 'web-logs'.\n",
    "        Если пользователь ничего не купил за указанный период, его суммарная стоимость покупок равна нулю.\n",
    "        Для каждого user_id должно быть ровно одно значение.\n",
    "\n",
    "        :param begin_date, end_date (datetime): период времени, за который нужно считать значения.\n",
    "            Нужно выбирать пользователей, которые хотя бы раз заходили на сайт до end_date.\n",
    "        :param user_id (None, list[str]): id пользователей, по которым нужно отфильтровать полученные значения.\n",
    "        \n",
    "        :return (pd.DataFrame): датафрейм с двумя столбцами ['user_id', 'metric']\n",
    "        \"\"\"\n",
    "        # YOUR_CODE_HERE\n",
    "        user_ids_ = (\n",
    "            self._get_data_subset('web-logs', None, end_date, user_ids, ['user_id'])\n",
    "            ['user_id'].unique()\n",
    "        )\n",
    "        df = (\n",
    "            self._get_data_subset('sales', begin_date, end_date, user_ids, ['user_id', 'price'])\n",
    "            .groupby(by='user_id')[['price']].sum().reset_index()\n",
    "            .rename(columns={'price' : 'metric'})\n",
    "        )\n",
    "        df = pd.merge(pd.DataFrame({'user_id' : user_ids_}), df, how='left', on='user_id').fillna(0)\n",
    "        \n",
    "        return df[['user_id', 'metric']]\n",
    "\n",
    "    def calculate_metric(self, metric_name, begin_date, end_date, user_ids=None):\n",
    "        \"\"\"Считает значения для вычисления метрик.\n",
    "\n",
    "        :param metric_name (str): название метрики\n",
    "        :param begin_date (datetime): дата начала периода (включая границу)\n",
    "        :param end_date (datetime): дата окончания периода (не включая границу)\n",
    "        :param user_ids (list[str], None): список пользователей.\n",
    "            Если None, то вычисляет значения для всех пользователей.\n",
    "        :return df: columns=['user_id', 'metric']\n",
    "        \"\"\"\n",
    "        if metric_name == 'response time':\n",
    "            return self._calculate_response_time(begin_date, end_date, user_ids)\n",
    "        elif metric_name == 'revenue (web)':\n",
    "            return self._calculate_revenue_web(begin_date, end_date, user_ids)\n",
    "        elif metric_name == 'revenue (all)':\n",
    "            return self._calculate_revenue_all(begin_date, end_date, user_ids)\n",
    "        else:\n",
    "            raise ValueError('Wrong metric name')\n",
    "\n",
    "\n",
    "def _chech_df(df, df_ideal, sort_by, reindex=False, set_dtypes=False):\n",
    "    assert isinstance(df, pd.DataFrame), 'Функция вернула не pd.DataFrame.'\n",
    "    assert len(df) == len(df_ideal), 'Неверное количество строк.'\n",
    "    assert len(df.T) == len(df_ideal.T), 'Неверное количество столбцов.'\n",
    "    columns = df_ideal.columns\n",
    "    assert df.columns.isin(columns).sum() == len(df.columns), 'Неверное название столбцов.'\n",
    "    df = df[columns].sort_values(sort_by)\n",
    "    df_ideal = df_ideal.sort_values(sort_by)\n",
    "    if reindex:\n",
    "        df_ideal.index = range(len(df_ideal))\n",
    "        df.index = range(len(df))\n",
    "    if set_dtypes:\n",
    "        for column, dtype in df_ideal.dtypes.to_dict().items():\n",
    "            df[column] = df[column].astype(dtype)\n",
    "    assert df_ideal.equals(df), 'Итоговый датафрейм не совпадает с верным результатом.'\n"
   ]
  },
  {
   "cell_type": "code",
   "execution_count": 126,
   "metadata": {},
   "outputs": [
    {
     "name": "stdout",
     "output_type": "stream",
     "text": [
      "simple test passed\n"
     ]
    }
   ],
   "source": [
    "if __name__ == '__main__':\n",
    "    df_sales = pd.DataFrame({\n",
    "        'sale_id': [1, 2, 3],\n",
    "        'date': [datetime(2022, 3, day, 11) for day in range(11, 14)],\n",
    "        'price': [1100, 900, 1500],\n",
    "        'user_id': ['1', '2', '1'],\n",
    "    })\n",
    "    df_web_logs = pd.DataFrame({\n",
    "        'date': [datetime(2022, 3, day, 11) for day in range(10, 14)],\n",
    "        'load_time': [80.8, 90.1, 15.8, 19.7],\n",
    "        'user_id': ['3', '1', '2', '1'],\n",
    "    })\n",
    "    begin_date = datetime(2022, 3, 11, 9)\n",
    "    end_date = datetime(2022, 4, 11, 9)\n",
    "\n",
    "    ideal_response_time = pd.DataFrame({'user_id': ['1', '2', '1'], 'metric': [90.1, 15.8, 19.7],})\n",
    "    ideal_revenue_web = pd.DataFrame({'user_id': ['1', '2'], 'metric': [2600., 900.],})\n",
    "    ideal_revenue_all = pd.DataFrame({'user_id': ['1', '2', '3'], 'metric': [2600., 900., 0.],})\n",
    "\n",
    "    data_service = DataService({'sales': df_sales, 'web-logs': df_web_logs})\n",
    "    metrics_service = MetricsService(data_service)\n",
    "\n",
    "    df_response_time = metrics_service.calculate_metric('response time', begin_date, end_date)\n",
    "    df_revenue_web = metrics_service.calculate_metric('revenue (web)', begin_date, end_date)\n",
    "    df_revenue_all = metrics_service.calculate_metric('revenue (all)', begin_date, end_date)\n",
    "\n",
    "    _chech_df(df_response_time, ideal_response_time, ['user_id', 'metric'], True, True)\n",
    "    _chech_df(df_revenue_web, ideal_revenue_web, ['user_id', 'metric'], True, True)\n",
    "    _chech_df(df_revenue_all, ideal_revenue_all, ['user_id', 'metric'], True, True)\n",
    "    print('simple test passed')\n"
   ]
  },
  {
   "cell_type": "code",
   "execution_count": null,
   "metadata": {},
   "outputs": [],
   "source": []
  },
  {
   "cell_type": "code",
   "execution_count": null,
   "metadata": {},
   "outputs": [],
   "source": []
  },
  {
   "cell_type": "code",
   "execution_count": null,
   "metadata": {},
   "outputs": [],
   "source": []
  },
  {
   "cell_type": "code",
   "execution_count": null,
   "metadata": {},
   "outputs": [],
   "source": []
  },
  {
   "cell_type": "code",
   "execution_count": null,
   "metadata": {},
   "outputs": [],
   "source": []
  }
 ],
 "metadata": {
  "kernelspec": {
   "display_name": "Python 3",
   "language": "python",
   "name": "python3"
  },
  "language_info": {
   "codemirror_mode": {
    "name": "ipython",
    "version": 3
   },
   "file_extension": ".py",
   "mimetype": "text/x-python",
   "name": "python",
   "nbconvert_exporter": "python",
   "pygments_lexer": "ipython3",
   "version": "3.7.4"
  }
 },
 "nbformat": 4,
 "nbformat_minor": 2
}

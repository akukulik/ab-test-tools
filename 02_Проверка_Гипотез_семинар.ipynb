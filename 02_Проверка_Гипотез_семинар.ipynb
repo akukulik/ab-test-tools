{
 "cells": [
  {
   "cell_type": "code",
   "execution_count": 3,
   "metadata": {
    "executionInfo": {
     "elapsed": 20,
     "status": "ok",
     "timestamp": 1674542284785,
     "user": {
      "displayName": "Nikolay Nazarov",
      "userId": "18018785782997408667"
     },
     "user_tz": -420
    },
    "id": "DgDoo1X66eKj"
   },
   "outputs": [],
   "source": [
    "import numpy as np\n",
    "import matplotlib.pyplot as plt\n",
    "import scipy.stats as stats"
   ]
  },
  {
   "cell_type": "code",
   "execution_count": 4,
   "metadata": {
    "executionInfo": {
     "elapsed": 19,
     "status": "ok",
     "timestamp": 1674542284786,
     "user": {
      "displayName": "Nikolay Nazarov",
      "userId": "18018785782997408667"
     },
     "user_tz": -420
    },
    "id": "lK93TRWW6eKm"
   },
   "outputs": [],
   "source": [
    "plt.rcParams['legend.markerscale'] = 1.5     # the relative size of legend markers vs. original\n",
    "plt.rcParams['legend.handletextpad'] = 0.5\n",
    "plt.rcParams['legend.labelspacing'] = 0.4    # the vertical space between the legend entries in fraction of fontsize\n",
    "plt.rcParams['legend.borderpad'] = 0.5       # border whitespace in fontsize units\n",
    "plt.rcParams['font.size'] = 12\n",
    "plt.rcParams['font.serif'] = 'Times New Roman'\n",
    "plt.rcParams['axes.labelsize'] = 22\n",
    "plt.rcParams['axes.titlesize'] = 24\n",
    "plt.rcParams['figure.figsize'] = (10, 6)\n",
    "\n",
    "plt.rc('xtick', labelsize=18)\n",
    "plt.rc('ytick', labelsize=18)\n",
    "plt.rc('legend', fontsize=22)"
   ]
  },
  {
   "cell_type": "markdown",
   "metadata": {
    "id": "IyDZ-09R6eKn"
   },
   "source": [
    "# 1. Общий случай\n",
    "\n",
    "## Статистическая гипотеза и статистический критерий\n",
    "\n",
    "**Статистическая гипотеза** $-$ любое предположение о распределении и свойствах случайной величины.\n",
    "\n",
    "**Cтатистический критерий** $-$ математическое правило, позволяющее по реализациям выборок отвергнуть или не отвергнуть нулевую гипотезу с заданным уровнем значимости."
   ]
  },
  {
   "cell_type": "markdown",
   "metadata": {
    "id": "LEGmliTv6eKp"
   },
   "source": [
    "Дана выборка $X_1, \\ldots, X_n \\sim F$.\n",
    "\n",
    "Хотим проверить простую гипотезу $H_0$ против сложной альтернативы $H_1$.\n",
    "\n",
    "Пусть можно задать функцию $t (X^n)$, обладающую свойствами:\n",
    "\n",
    "1. если $H_0$ верна, то $t (X^n) \\Rightarrow G$, где $G$ — непрерывное распределение;\n",
    "2. если $H_0$ неверна, то $|t (X^n)| \\overset{P}{\\to} \\infty$ при $n\\to \\infty$.\n",
    "\n",
    "\n",
    "Для СВ $Y\\sim G$ определим постоянную $C$ из равенства $\\alpha = \\mathbb{P}(|Y| \\geq C)$.\n",
    "\n",
    "Тогда критерий:\n",
    "\\begin{equation*}\n",
    "    \\delta (X^n) = \n",
    "    \\left\\{\n",
    "    \\begin{aligned}\n",
    "        &H_0,\\ если\\ t(X^n) < C,\\\\\n",
    "        &H_1,\\ если\\ t(X^n) \\geq C\n",
    "    \\end{aligned}\n",
    "    \\right.\n",
    "\\end{equation*}"
   ]
  },
  {
   "cell_type": "code",
   "execution_count": 8,
   "metadata": {
    "colab": {
     "base_uri": "https://localhost:8080/"
    },
    "executionInfo": {
     "elapsed": 18,
     "status": "ok",
     "timestamp": 1674542284787,
     "user": {
      "displayName": "Nikolay Nazarov",
      "userId": "18018785782997408667"
     },
     "user_tz": -420
    },
    "id": "e_wW0irZfxgn",
    "outputId": "5939931d-7566-4408-ac04-b25a6e590575"
   },
   "outputs": [
    {
     "name": "stdout",
     "output_type": "stream",
     "text": [
      "[0 0 0 0 0 0 0 1 1 1 0 1 1 0 1 1 1 1 0 0 0 0 0 1 1 1 1 0 0 1 1 1 1 0 1 1 1\n",
      " 0 0 0 1 1 0 0 1 0 0 0 0 1 1 1 0 1 0 1 0 1 0 1 0 0 0 1 0 1 1 1 0 0 1 0 1 1\n",
      " 1 1 0 1 1 0 0 0 0 0 1 0 0 0 1 0 1 0 1 0 1 1 0 0 0 0]\n",
      "0.47\n"
     ]
    },
    {
     "data": {
      "text/plain": [
       "0.30000000000000027"
      ]
     },
     "execution_count": 8,
     "metadata": {},
     "output_type": "execute_result"
    }
   ],
   "source": [
    "true_p = 0.5\n",
    "size = 100\n",
    "\n",
    "x = np.random.binomial(1, p=true_p, size=size)\n",
    "print(x)\n",
    "print(np.mean(x))\n",
    "\n",
    "def t(x):\n",
    "    return np.abs(np.mean(x) - 1/2) * size ** 0.5\n",
    "t(x)"
   ]
  },
  {
   "cell_type": "markdown",
   "metadata": {
    "id": "YLtE1hZ96eKq"
   },
   "source": [
    "## Уровень значимости, мощность, критическая область\n",
    "\n",
    "**Уровень значимости** $-$ вероятность отклонить нулевую гипотезу при условии её истинности.\n",
    "\n",
    "**Статистическая мощность** $-$ вероятность отклонения основной гипотезы в случае, когда альтернативная гипотеза верна.\n",
    "\n",
    "**Критическая область** $-$ область выборочного пространства, при попадании в которую нулевая гипотеза отклоняется."
   ]
  },
  {
   "cell_type": "markdown",
   "metadata": {
    "id": "Vvb_n3fL6eKq"
   },
   "source": [
    "## Этапы проверки статистических гипотез\n",
    "\n",
    "\n",
    "1. Выдвижение основной гипотезы $H_0$ и альтернативной гипотезы $H_1$.\n",
    "2. Выбор уровня значимости $\\alpha$, на котором будет сделан вывод о справедливости гипотезы. Он равен вероятности допустить ошибку первого рода.\n",
    "3. Расчет статистики критерия такой, что она зависит от выборки, и по её значению можно сделать вывод об истинности нулевой гипотезы.\n",
    "4. Построение критической области.\n",
    "5. По попаданию или непопаданию значения статистики в критическую область делается вывод об истинности выдвинутой гипотезы на выбранном уровне значимости.\n"
   ]
  },
  {
   "cell_type": "markdown",
   "metadata": {
    "id": "y5KEyinD6eKq"
   },
   "source": [
    "# 2. Тест Стьюдента\n",
    "\n",
    "## Гипотеза о равенстве средних\n",
    "\n",
    "Нулевая и альтернативная гипотезы:\n",
    "\n",
    "- $H_0:$ средние двух групп равны, $m_1 = m_2$\n",
    "\n",
    "- $H_1:$ средние двух групп неравны, $m_1 \\ne m_2$"
   ]
  },
  {
   "cell_type": "markdown",
   "metadata": {
    "id": "Bn4qXHl56eKr"
   },
   "source": [
    "## Распределение Стьюдента\n",
    "\n",
    "Для выборки $X_1, X_2, \\ldots, X_n \\sim N(\\mu, \\sigma^2)$ из нормального распределения с неизвестной дисперсией мы можем определить статистику: \n",
    "\n",
    "$$ \n",
    "    \\left<X\\right> = \\frac1n \\sum_{i=1}^n X_i,\\quad\n",
    "    S^2 = \\frac1{n-1} \\sum_{i=1}^n (X_i - \\left<X\\right>)^2, \\quad\n",
    "    t = \\frac{\\left<X\\right> - \\mu}{\\dfrac{S}{\\sqrt{n}}}.    \n",
    "$$\n",
    "\n",
    "При этом случайная величина $t$ имеет распределение Стьюдента с (n-1) степенью свободы. При росте n распределение стремится к нормальному, но в практически значимых случаях конечных выборок у этого распределения значительно более тяжелые хвосты, что повышает шансы заметных отклонений."
   ]
  },
  {
   "cell_type": "code",
   "execution_count": 9,
   "metadata": {
    "colab": {
     "base_uri": "https://localhost:8080/",
     "height": 431
    },
    "executionInfo": {
     "elapsed": 1139,
     "status": "ok",
     "timestamp": 1674542285913,
     "user": {
      "displayName": "Nikolay Nazarov",
      "userId": "18018785782997408667"
     },
     "user_tz": -420
    },
    "id": "qtOiZtR06eKs",
    "outputId": "a54d8d7d-aeca-42d8-95fb-85703127e169"
   },
   "outputs": [
    {
     "data": {
      "image/png": "[encoded data removed]",
      "text/plain": [
       "<Figure size 432x288 with 1 Axes>"
      ]
     },
     "metadata": {
      "needs_background": "light"
     },
     "output_type": "display_data"
    }
   ],
   "source": [
    "X = np.linspace(-5, 5, 100)\n",
    "list_k = [1, 2, 5, 20]\n",
    "for k in list_k:\n",
    "    Y = stats.t.pdf(X, k)\n",
    "    plt.plot(X, Y, label=f'k={k}')\n",
    "\n",
    "Y = stats.norm.pdf(X, 0, 1)\n",
    "plt.plot(X, Y, '--', label='norm', linewidth=4)\n",
    "\n",
    "plt.legend()\n",
    "plt.title('Распределение статистики Стьюдента')\n",
    "plt.xlabel('x')\n",
    "plt.grid()\n",
    "plt.show()"
   ]
  },
  {
   "cell_type": "markdown",
   "metadata": {
    "id": "jYnZW7-n6eKt"
   },
   "source": [
    "## Тест Стьюдента\n",
    "\n",
    "Есть две выборки: $X_1,\\ldots,X_{n_1}\\sim N(\\mu_1, \\sigma_1)$ и $Y_1,\\ldots,Y_{n_2}\\sim N(\\mu_2, \\sigma_2)$.\n",
    "    \n",
    "Гипотезы: $H_0: \\mathbb{E}{X} = \\mathbb{E}{Y}$ и $H_1: \\mathbb{E}{X} \\neq \\mathbb{E}{Y}$.\n",
    "\n",
    "Статистика теста:\n",
    "$$t(X^n, Y^n) = \\dfrac{\\overline{Y} - \\overline{X}}{\\sqrt{\\dfrac{S^2_X}{n_1} + \\dfrac{S^2_Y}{n_2}}} \\approx St(\\nu), \\qquad \\nu = \\frac{\\left(\\dfrac{S^2_X}{n_1} + \\dfrac{S^2_Y}{n_2}\\right)^2}{\\dfrac{S_X^4}{n_1^2 (n_1 - 1)} + \\dfrac{S_Y^4}{n_2^2 (n_2 - 1)}}$$"
   ]
  },
  {
   "cell_type": "markdown",
   "metadata": {
    "id": "yaMpqRAHOcOt"
   },
   "source": [
    "Самостоятельно реализуем вычисление t-статистики: "
   ]
  },
  {
   "cell_type": "code",
   "execution_count": 10,
   "metadata": {
    "executionInfo": {
     "elapsed": 117,
     "status": "ok",
     "timestamp": 1674542285916,
     "user": {
      "displayName": "Nikolay Nazarov",
      "userId": "18018785782997408667"
     },
     "user_tz": -420
    },
    "id": "IP4FkS6t6eKu"
   },
   "outputs": [],
   "source": [
    "def get_student_parameter(data_one: np.array, data_two: np.array) -> float:\n",
    "    \"\"\"Вычисляет параметр функции распределения Стьюдента.\"\"\"\n",
    "    len_one, len_two = len(data_one), len(data_one)\n",
    "    std_one, std_two = np.std(data_one), np.std(data_two)\n",
    "    k = (\n",
    "        ((std_one ** 2) / len_one + (std_two ** 2) / len_two) ** 2\n",
    "        / (\n",
    "            (std_one ** 4) / ((len_one ** 2) * (len_one - 1))\n",
    "            + (std_two ** 4) / ((len_two ** 2) * (len_two - 1))\n",
    "        )\n",
    "    )\n",
    "    return k\n",
    "\n",
    "\n",
    "def get_ttest_statistic(data_one: np.array, data_two: np.array) -> float:\n",
    "    \"\"\"Считает статистику Стьюдента\"\"\"\n",
    "    len_one, len_two = len(data_one), len(data_two)\n",
    "    mean_one, mean_two = np.mean(data_one), np.mean(data_two)\n",
    "    std_one, std_two = np.std(data_one, ddof=1), np.std(data_two, ddof=1)\n",
    "    t = (mean_two - mean_one) / np.sqrt((std_two**2 / len_two) + (std_one**2 / len_one))\n",
    "    return t"
   ]
  },
  {
   "cell_type": "markdown",
   "metadata": {
    "id": "zt5QcX3-5A18"
   },
   "source": [
    "Сверим результаты с готовой реализацией теста"
   ]
  },
  {
   "cell_type": "code",
   "execution_count": 11,
   "metadata": {
    "colab": {
     "base_uri": "https://localhost:8080/"
    },
    "executionInfo": {
     "elapsed": 117,
     "status": "ok",
     "timestamp": 1674542285918,
     "user": {
      "displayName": "Nikolay Nazarov",
      "userId": "18018785782997408667"
     },
     "user_tz": -420
    },
    "id": "Eo6E69qw6eKv",
    "outputId": "d2b1515d-ec64-4e71-ed43-cde6fafc5d92"
   },
   "outputs": [
    {
     "name": "stdout",
     "output_type": "stream",
     "text": [
      "student_parameter = 196.53643393447297\n",
      "critical_region_bounds = [-1.97210778  1.97210778]\n",
      "ttest_statistic = 1.8203056424009751\n",
      "pvalue = 0.0702335577441075\n",
      "stats.ttest_ind = Ttest_indResult(statistic=1.8203056424009751, pvalue=0.07022230781028713)\n"
     ]
    }
   ],
   "source": [
    "sample_size = 100\n",
    "alpha = 0.05\n",
    "\n",
    "np.random.seed(44)\n",
    "data_control = np.random.normal(1, 1, sample_size)\n",
    "data_pilot = np.random.normal(1.2, 1, sample_size)\n",
    "\n",
    "k = get_student_parameter(data_control, data_pilot)\n",
    "print(f'student_parameter = {k}')\n",
    "\n",
    "critical_region_bounds = stats.t.ppf([alpha/2, 1 - alpha/2], df=k)\n",
    "print(f'critical_region_bounds = {critical_region_bounds}')\n",
    "\n",
    "ttest_statistic = get_ttest_statistic(data_control, data_pilot)\n",
    "print(f'ttest_statistic = {ttest_statistic}')\n",
    "\n",
    "pvalue = stats.t.cdf(-np.abs(ttest_statistic), df=k) * 2\n",
    "print(f'pvalue = {pvalue}')\n",
    "\n",
    "# сверим с готовой реализацией\n",
    "ttest_statistic_real, pvalue_real = stats.ttest_ind(data_pilot, data_control)\n",
    "print(f'stats.ttest_ind = {stats.ttest_ind(data_pilot, data_control)}')\n",
    "assert np.isclose(ttest_statistic_real, ttest_statistic, 1e-9), 'Статистика посчитана неверно'"
   ]
  },
  {
   "cell_type": "markdown",
   "metadata": {
    "id": "HnfT3IBQ6A2Q"
   },
   "source": [
    "Построим критические области критерия"
   ]
  },
  {
   "cell_type": "code",
   "execution_count": 12,
   "metadata": {
    "colab": {
     "base_uri": "https://localhost:8080/",
     "height": 431
    },
    "executionInfo": {
     "elapsed": 1158,
     "status": "ok",
     "timestamp": 1674542287041,
     "user": {
      "displayName": "Nikolay Nazarov",
      "userId": "18018785782997408667"
     },
     "user_tz": -420
    },
    "id": "rX4bQN2E6eKv",
    "outputId": "3e3c8466-6a85-4831-c2ae-80b60338ec1f"
   },
   "outputs": [
    {
     "data": {
      "image/png": "[encoded data removed]",
      "text/plain": [
       "<Figure size 432x288 with 1 Axes>"
      ]
     },
     "metadata": {
      "needs_background": "light"
     },
     "output_type": "display_data"
    }
   ],
   "source": [
    "X = np.linspace(-3, 3, 1000)\n",
    "Y = stats.t.pdf(X, k)\n",
    "\n",
    "plt.plot(X, Y, label=f'St (k={k:0.0f})')\n",
    "\n",
    "critical_mask_list = [X < critical_region_bounds[0], X > critical_region_bounds[1]]\n",
    "for idx, mask in enumerate(critical_mask_list):\n",
    "    X_ = X[mask]\n",
    "    Y_upper = Y[mask]\n",
    "    Y_down = np.zeros(len(Y_upper))\n",
    "    plt.fill_between(\n",
    "        X_, Y_down, Y_upper,\n",
    "        color='r', alpha=0.3,\n",
    "        label='critical region' if idx==0 else ''\n",
    "    )\n",
    "\n",
    "plt.scatter([ttest_statistic], [0], color='k', label='t-statistic')\n",
    "\n",
    "plt.title('Распределение статистики при H0')\n",
    "plt.xlabel('t')\n",
    "plt.legend()\n",
    "plt.grid()\n",
    "plt.show()"
   ]
  },
  {
   "cell_type": "markdown",
   "metadata": {
    "id": "BiE-_K2S6eKw"
   },
   "source": [
    "# 3. Двусторонний и односторонние критерии\n",
    "\n",
    "Критическая область зависит от альтернативы\n",
    "\n",
    "#### Двусторонний критерий\n",
    "\n",
    "- $H_1$: $\\theta \\ne \\theta_0$\n",
    "\n",
    "#### Правосторонняя гипотеза\n",
    "\n",
    "- $H_1$: $\\theta > \\theta_0$\n",
    "\n",
    "#### Левосторонняя гипотеза\n",
    "\n",
    "- $H_1$: $\\theta < \\theta_0$\n",
    "\n",
    "Для гипотезы о равенстве средних $\\theta = t$ и $\\theta_0 = 0$.\n",
    "\n"
   ]
  },
  {
   "cell_type": "markdown",
   "metadata": {
    "id": "zBeCjKGH6eKw"
   },
   "source": [
    "Построим критическую область одностороннего критерия."
   ]
  },
  {
   "cell_type": "code",
   "execution_count": 13,
   "metadata": {
    "colab": {
     "base_uri": "https://localhost:8080/",
     "height": 431
    },
    "executionInfo": {
     "elapsed": 39,
     "status": "ok",
     "timestamp": 1674542287045,
     "user": {
      "displayName": "Nikolay Nazarov",
      "userId": "18018785782997408667"
     },
     "user_tz": -420
    },
    "id": "1oYx0S0C6eKw",
    "outputId": "b3187307-6187-458b-f863-85c1fed203f7"
   },
   "outputs": [
    {
     "data": {
      "image/png": "[encoded data removed]",
      "text/plain": [
       "<Figure size 432x288 with 1 Axes>"
      ]
     },
     "metadata": {
      "needs_background": "light"
     },
     "output_type": "display_data"
    }
   ],
   "source": [
    "sample_size = 100\n",
    "alpha = 0.05\n",
    "\n",
    "k = get_student_parameter(data_control, data_pilot)\n",
    "critical_region_bound = stats.t.ppf([1 - alpha], df=k)\n",
    "\n",
    "\n",
    "X = np.linspace(-3, 3, 1000)\n",
    "Y = stats.t.pdf(X, k)\n",
    "\n",
    "plt.plot(X, Y, label=f'St (k={k:0.0f})')\n",
    "\n",
    "mask = X > critical_region_bound\n",
    "X_ = X[mask]\n",
    "Y_upper = Y[mask]\n",
    "Y_down = np.zeros(len(Y_upper))\n",
    "plt.fill_between(\n",
    "    X_, Y_down, Y_upper,\n",
    "    color='r', alpha=0.3,\n",
    "    label='critical region'\n",
    ")\n",
    "\n",
    "plt.scatter([ttest_statistic], [0], color='k', label='t-statistic')\n",
    "\n",
    "plt.title('Распределение статистики при H0')\n",
    "plt.xlabel('t')\n",
    "plt.legend()\n",
    "plt.grid()\n",
    "plt.show()"
   ]
  },
  {
   "cell_type": "markdown",
   "metadata": {
    "id": "LezMWucBfxg3"
   },
   "source": [
    "Односторонние критерии обычно применяют в случаях, когда нас не интересует отклонение в одну из сторон.\n",
    "\n",
    "В нашем курсе по умолчанию будем рассматривать только двусторонние критерии."
   ]
  },
  {
   "cell_type": "markdown",
   "metadata": {
    "id": "W8c7O2KWfxg4"
   },
   "source": [
    "# 4. p-value"
   ]
  },
  {
   "cell_type": "markdown",
   "metadata": {
    "id": "vx4jziLIfxg5"
   },
   "source": [
    "p-value – вероятность наблюдать полученное или более экстремальное значение статистики при условии, что нулевая гипотеза верна. \n",
    "\n",
    "$$\n",
    "p{-}value = \\mathbb{P}(T > t | H_0)\n",
    "$$\n",
    "\n",
    "Статистический критерий можно записать как\n",
    "\n",
    "$$\n",
    "p{-}value < \\alpha \\iff отвергнуть~гипотезу\n",
    "$$"
   ]
  },
  {
   "cell_type": "code",
   "execution_count": 25,
   "metadata": {
    "colab": {
     "base_uri": "https://localhost:8080/"
    },
    "executionInfo": {
     "elapsed": 30,
     "status": "ok",
     "timestamp": 1674542287046,
     "user": {
      "displayName": "Nikolay Nazarov",
      "userId": "18018785782997408667"
     },
     "user_tz": -420
    },
    "id": "XBqhnZoWfxg6",
    "outputId": "77d63268-749f-419f-9d42-4f8ecd0c6ee2"
   },
   "outputs": [
    {
     "data": {
      "text/plain": [
       "Ttest_indResult(statistic=-1.7458618899782965, pvalue=0.0823860091721259)"
      ]
     },
     "execution_count": 25,
     "metadata": {},
     "output_type": "execute_result"
    }
   ],
   "source": [
    "x = np.random.normal(0, 1, 100)\n",
    "y = np.random.normal(0.1, 1, 100)\n",
    "stats.ttest_ind(x, y)"
   ]
  },
  {
   "cell_type": "markdown",
   "metadata": {
    "id": "Ist1Z3xm6eKx"
   },
   "source": [
    "# 5. Данные пиццерии\n",
    "\n",
    "Посчитаем p-value для эксперимента с изменением дизайна сайта."
   ]
  },
  {
   "cell_type": "code",
   "execution_count": 15,
   "metadata": {
    "executionInfo": {
     "elapsed": 21,
     "status": "ok",
     "timestamp": 1674542287047,
     "user": {
      "displayName": "Nikolay Nazarov",
      "userId": "18018785782997408667"
     },
     "user_tz": -420
    },
    "id": "PQk_kVmL6eKx"
   },
   "outputs": [],
   "source": [
    "import os\n",
    "from datetime import datetime, timedelta\n",
    "import pandas as pd\n",
    "\n",
    "URL_BASE = 'https://raw.githubusercontent.com/ab-courses/simulator-ab-datasets/main/2022-04-01/'\n",
    "\n",
    "def read_database(file_name):\n",
    "    return pd.read_csv(os.path.join(URL_BASE, file_name))"
   ]
  },
  {
   "cell_type": "code",
   "execution_count": 16,
   "metadata": {
    "executionInfo": {
     "elapsed": 2335,
     "status": "ok",
     "timestamp": 1674542289362,
     "user": {
      "displayName": "Nikolay Nazarov",
      "userId": "18018785782997408667"
     },
     "user_tz": -420
    },
    "id": "WLPvVqW4FMcX"
   },
   "outputs": [],
   "source": [
    "df_sales = read_database('2022-04-01T12_df_sales.csv')\n",
    "df_sales['date'] = pd.to_datetime(df_sales['date'])\n",
    "df_users = read_database('experiment_users.csv')"
   ]
  },
  {
   "cell_type": "markdown",
   "metadata": {
    "id": "HnHLyoc_Bwwb"
   },
   "source": [
    "df_sales - информация о покупках, одна строка - один заказ. Атрибуты:\n",
    "- sale_id - идентификатор покупки;\n",
    "- date - дата покупки;\n",
    "- count_pizza - количество пицц в заказе;\n",
    "- count_drink - количество напитков в заказе;\n",
    "- price - стоимость заказа;\n",
    "- user_id - идентификатор пользователя;\n",
    "\n",
    "df_users - список пользователей эксперимента с разбивкой на группы"
   ]
  },
  {
   "cell_type": "code",
   "execution_count": 17,
   "metadata": {
    "colab": {
     "base_uri": "https://localhost:8080/",
     "height": 204
    },
    "executionInfo": {
     "elapsed": 51,
     "status": "ok",
     "timestamp": 1674542289363,
     "user": {
      "displayName": "Nikolay Nazarov",
      "userId": "18018785782997408667"
     },
     "user_tz": -420
    },
    "id": "13ocytEUFeso",
    "outputId": "d0142302-7280-4cd3-cc45-b6e8ccad90f2"
   },
   "outputs": [
    {
     "data": {
      "text/html": [
       "<div>\n",
       "<style scoped>\n",
       "    .dataframe tbody tr th:only-of-type {\n",
       "        vertical-align: middle;\n",
       "    }\n",
       "\n",
       "    .dataframe tbody tr th {\n",
       "        vertical-align: top;\n",
       "    }\n",
       "\n",
       "    .dataframe thead th {\n",
       "        text-align: right;\n",
       "    }\n",
       "</style>\n",
       "<table border=\"1\" class=\"dataframe\">\n",
       "  <thead>\n",
       "    <tr style=\"text-align: right;\">\n",
       "      <th></th>\n",
       "      <th>user_id</th>\n",
       "      <th>pilot</th>\n",
       "    </tr>\n",
       "  </thead>\n",
       "  <tbody>\n",
       "    <tr>\n",
       "      <th>0</th>\n",
       "      <td>0ffc65</td>\n",
       "      <td>0</td>\n",
       "    </tr>\n",
       "    <tr>\n",
       "      <th>1</th>\n",
       "      <td>b962b9</td>\n",
       "      <td>0</td>\n",
       "    </tr>\n",
       "    <tr>\n",
       "      <th>2</th>\n",
       "      <td>7ea63f</td>\n",
       "      <td>0</td>\n",
       "    </tr>\n",
       "    <tr>\n",
       "      <th>3</th>\n",
       "      <td>7f9a61</td>\n",
       "      <td>0</td>\n",
       "    </tr>\n",
       "    <tr>\n",
       "      <th>4</th>\n",
       "      <td>459e55</td>\n",
       "      <td>0</td>\n",
       "    </tr>\n",
       "  </tbody>\n",
       "</table>\n",
       "</div>"
      ],
      "text/plain": [
       "  user_id  pilot\n",
       "0  0ffc65      0\n",
       "1  b962b9      0\n",
       "2  7ea63f      0\n",
       "3  7f9a61      0\n",
       "4  459e55      0"
      ]
     },
     "execution_count": 17,
     "metadata": {},
     "output_type": "execute_result"
    }
   ],
   "source": [
    "df_users.head()"
   ]
  },
  {
   "cell_type": "code",
   "execution_count": 26,
   "metadata": {
    "colab": {
     "base_uri": "https://localhost:8080/"
    },
    "executionInfo": {
     "elapsed": 49,
     "status": "ok",
     "timestamp": 1674542289365,
     "user": {
      "displayName": "Nikolay Nazarov",
      "userId": "18018785782997408667"
     },
     "user_tz": -420
    },
    "id": "LeBzOkl4FgiJ",
    "outputId": "b0295aff-95c3-4c55-87ac-f0307b02c709"
   },
   "outputs": [
    {
     "data": {
      "text/plain": [
       "0    11769\n",
       "1    11564\n",
       "Name: pilot, dtype: int64"
      ]
     },
     "execution_count": 26,
     "metadata": {},
     "output_type": "execute_result"
    }
   ],
   "source": [
    "# количество пользователей в группах\n",
    "df_users['pilot'].value_counts()"
   ]
  },
  {
   "cell_type": "code",
   "execution_count": 27,
   "metadata": {
    "executionInfo": {
     "elapsed": 41,
     "status": "ok",
     "timestamp": 1674542289366,
     "user": {
      "displayName": "Nikolay Nazarov",
      "userId": "18018785782997408667"
     },
     "user_tz": -420
    },
    "id": "B8mG7cBbF5_m"
   },
   "outputs": [],
   "source": [
    "# считаем значения метрики\n",
    "begin_date = datetime(2022, 3, 23)\n",
    "end_date = datetime(2022, 3, 30)\n",
    "df_metrics = (\n",
    "    df_sales\n",
    "    [(df_sales['date'] >= begin_date) & (df_sales['date'] < end_date)]\n",
    "    .groupby('user_id')[['price']].sum()\n",
    "    .reset_index()  \n",
    ")"
   ]
  },
  {
   "cell_type": "code",
   "execution_count": 28,
   "metadata": {
    "colab": {
     "base_uri": "https://localhost:8080/",
     "height": 204
    },
    "executionInfo": {
     "elapsed": 40,
     "status": "ok",
     "timestamp": 1674542289368,
     "user": {
      "displayName": "Nikolay Nazarov",
      "userId": "18018785782997408667"
     },
     "user_tz": -420
    },
    "id": "fb9YdTfhGflr",
    "outputId": "3a7e0997-4d7a-4634-a1f0-bd78540aa4cd",
    "scrolled": true
   },
   "outputs": [
    {
     "data": {
      "text/html": [
       "<div>\n",
       "<style scoped>\n",
       "    .dataframe tbody tr th:only-of-type {\n",
       "        vertical-align: middle;\n",
       "    }\n",
       "\n",
       "    .dataframe tbody tr th {\n",
       "        vertical-align: top;\n",
       "    }\n",
       "\n",
       "    .dataframe thead th {\n",
       "        text-align: right;\n",
       "    }\n",
       "</style>\n",
       "<table border=\"1\" class=\"dataframe\">\n",
       "  <thead>\n",
       "    <tr style=\"text-align: right;\">\n",
       "      <th></th>\n",
       "      <th>user_id</th>\n",
       "      <th>price</th>\n",
       "    </tr>\n",
       "  </thead>\n",
       "  <tbody>\n",
       "    <tr>\n",
       "      <th>0</th>\n",
       "      <td>0000d4</td>\n",
       "      <td>720</td>\n",
       "    </tr>\n",
       "    <tr>\n",
       "      <th>1</th>\n",
       "      <td>0000de</td>\n",
       "      <td>660</td>\n",
       "    </tr>\n",
       "    <tr>\n",
       "      <th>2</th>\n",
       "      <td>0000e4</td>\n",
       "      <td>840</td>\n",
       "    </tr>\n",
       "    <tr>\n",
       "      <th>3</th>\n",
       "      <td>0001e2</td>\n",
       "      <td>2430</td>\n",
       "    </tr>\n",
       "    <tr>\n",
       "      <th>4</th>\n",
       "      <td>0001ff</td>\n",
       "      <td>720</td>\n",
       "    </tr>\n",
       "  </tbody>\n",
       "</table>\n",
       "</div>"
      ],
      "text/plain": [
       "  user_id  price\n",
       "0  0000d4    720\n",
       "1  0000de    660\n",
       "2  0000e4    840\n",
       "3  0001e2   2430\n",
       "4  0001ff    720"
      ]
     },
     "execution_count": 28,
     "metadata": {},
     "output_type": "execute_result"
    }
   ],
   "source": [
    "df_metrics.head()"
   ]
  },
  {
   "cell_type": "code",
   "execution_count": 29,
   "metadata": {
    "executionInfo": {
     "elapsed": 39,
     "status": "ok",
     "timestamp": 1674542289369,
     "user": {
      "displayName": "Nikolay Nazarov",
      "userId": "18018785782997408667"
     },
     "user_tz": -420
    },
    "id": "4UBIFWwfFyxF"
   },
   "outputs": [],
   "source": [
    "df = pd.merge(df_users, df_metrics, on='user_id', how='left').fillna(0)"
   ]
  },
  {
   "cell_type": "code",
   "execution_count": 30,
   "metadata": {
    "colab": {
     "base_uri": "https://localhost:8080/",
     "height": 204
    },
    "executionInfo": {
     "elapsed": 38,
     "status": "ok",
     "timestamp": 1674542289370,
     "user": {
      "displayName": "Nikolay Nazarov",
      "userId": "18018785782997408667"
     },
     "user_tz": -420
    },
    "id": "RecvRF36GpNr",
    "outputId": "c83b5347-625e-429f-ec2c-9184b4a649f0"
   },
   "outputs": [
    {
     "data": {
      "text/html": [
       "<div>\n",
       "<style scoped>\n",
       "    .dataframe tbody tr th:only-of-type {\n",
       "        vertical-align: middle;\n",
       "    }\n",
       "\n",
       "    .dataframe tbody tr th {\n",
       "        vertical-align: top;\n",
       "    }\n",
       "\n",
       "    .dataframe thead th {\n",
       "        text-align: right;\n",
       "    }\n",
       "</style>\n",
       "<table border=\"1\" class=\"dataframe\">\n",
       "  <thead>\n",
       "    <tr style=\"text-align: right;\">\n",
       "      <th></th>\n",
       "      <th>user_id</th>\n",
       "      <th>pilot</th>\n",
       "      <th>price</th>\n",
       "    </tr>\n",
       "  </thead>\n",
       "  <tbody>\n",
       "    <tr>\n",
       "      <th>0</th>\n",
       "      <td>0ffc65</td>\n",
       "      <td>0</td>\n",
       "      <td>0.0</td>\n",
       "    </tr>\n",
       "    <tr>\n",
       "      <th>1</th>\n",
       "      <td>b962b9</td>\n",
       "      <td>0</td>\n",
       "      <td>840.0</td>\n",
       "    </tr>\n",
       "    <tr>\n",
       "      <th>2</th>\n",
       "      <td>7ea63f</td>\n",
       "      <td>0</td>\n",
       "      <td>0.0</td>\n",
       "    </tr>\n",
       "    <tr>\n",
       "      <th>3</th>\n",
       "      <td>7f9a61</td>\n",
       "      <td>0</td>\n",
       "      <td>0.0</td>\n",
       "    </tr>\n",
       "    <tr>\n",
       "      <th>4</th>\n",
       "      <td>459e55</td>\n",
       "      <td>0</td>\n",
       "      <td>0.0</td>\n",
       "    </tr>\n",
       "  </tbody>\n",
       "</table>\n",
       "</div>"
      ],
      "text/plain": [
       "  user_id  pilot  price\n",
       "0  0ffc65      0    0.0\n",
       "1  b962b9      0  840.0\n",
       "2  7ea63f      0    0.0\n",
       "3  7f9a61      0    0.0\n",
       "4  459e55      0    0.0"
      ]
     },
     "execution_count": 30,
     "metadata": {},
     "output_type": "execute_result"
    }
   ],
   "source": [
    "df.head()"
   ]
  },
  {
   "cell_type": "code",
   "execution_count": 32,
   "metadata": {
    "colab": {
     "base_uri": "https://localhost:8080/"
    },
    "executionInfo": {
     "elapsed": 38,
     "status": "ok",
     "timestamp": 1674542289372,
     "user": {
      "displayName": "Nikolay Nazarov",
      "userId": "18018785782997408667"
     },
     "user_tz": -420
    },
    "id": "9RQzYxw-FrBU",
    "outputId": "0f79e47f-be23-4f03-99cf-3258ae53deee"
   },
   "outputs": [
    {
     "data": {
      "text/plain": [
       "Ttest_indResult(statistic=-7.800743549967138, pvalue=6.411291718224787e-15)"
      ]
     },
     "execution_count": 32,
     "metadata": {},
     "output_type": "execute_result"
    }
   ],
   "source": [
    "data_control = df[df['pilot'] == 0]['price']\n",
    "data_pilot = df[df['pilot'] == 1]['price']\n",
    "stats.ttest_ind(data_control, data_pilot)"
   ]
  },
  {
   "cell_type": "markdown",
   "metadata": {
    "id": "VIEZsM4SHPFS"
   },
   "source": [
    "Получили близкое к нулю p-value, как и на платформе.\n",
    "\n",
    "**Вывод:** \n",
    "- На уровне значимости 0.05 гипотеза о равенстве средних отклоняется\n",
    "- Изменение статистически значимо"
   ]
  }
 ],
 "metadata": {
  "colab": {
   "provenance": []
  },
  "kernelspec": {
   "display_name": "Python 3",
   "language": "python",
   "name": "python3"
  },
  "language_info": {
   "codemirror_mode": {
    "name": "ipython",
    "version": 3
   },
   "file_extension": ".py",
   "mimetype": "text/x-python",
   "name": "python",
   "nbconvert_exporter": "python",
   "pygments_lexer": "ipython3",
   "version": "3.7.4"
  }
 },
 "nbformat": 4,
 "nbformat_minor": 1
}
